{
 "cells": [
  {
   "cell_type": "code",
   "execution_count": 1,
   "metadata": {},
   "outputs": [],
   "source": [
    "import pandas as pd\n",
    "from datasets import load_dataset\n",
    "\n",
    "ds = load_dataset(\"facebook/natural_reasoning\")\n",
    "\n",
    "df = pd.DataFrame(ds[\"train\"])"
   ]
  },
  {
   "cell_type": "code",
   "execution_count": 2,
   "metadata": {},
   "outputs": [
    {
     "data": {
      "text/html": [
       "<div>\n",
       "<style scoped>\n",
       "    .dataframe tbody tr th:only-of-type {\n",
       "        vertical-align: middle;\n",
       "    }\n",
       "\n",
       "    .dataframe tbody tr th {\n",
       "        vertical-align: top;\n",
       "    }\n",
       "\n",
       "    .dataframe thead th {\n",
       "        text-align: right;\n",
       "    }\n",
       "</style>\n",
       "<table border=\"1\" class=\"dataframe\">\n",
       "  <thead>\n",
       "    <tr style=\"text-align: right;\">\n",
       "      <th></th>\n",
       "      <th>question</th>\n",
       "      <th>reference_answer</th>\n",
       "      <th>responses</th>\n",
       "    </tr>\n",
       "  </thead>\n",
       "  <tbody>\n",
       "    <tr>\n",
       "      <th>0</th>\n",
       "      <td>What is the total work done on an object when ...</td>\n",
       "      <td>W = delta ME = delta KE + delta PE</td>\n",
       "      <td>[{'response_model': 'Llama-3.3-70B-Instruct', ...</td>\n",
       "    </tr>\n",
       "    <tr>\n",
       "      <th>1</th>\n",
       "      <td>Propose a system of 'Practical Numbers' that d...</td>\n",
       "      <td>A well-structured proposal addressing the chal...</td>\n",
       "      <td>[{'response_model': 'Llama-3.3-70B-Instruct', ...</td>\n",
       "    </tr>\n",
       "    <tr>\n",
       "      <th>2</th>\n",
       "      <td>Solve the differential equation (1/F)(dF/dx) =...</td>\n",
       "      <td>c = x.e^(2y) - 2e^(3y)</td>\n",
       "      <td>[{'response_model': 'Llama-3.3-70B-Instruct', ...</td>\n",
       "    </tr>\n",
       "    <tr>\n",
       "      <th>3</th>\n",
       "      <td>Two equal masses, each with a mass similar to ...</td>\n",
       "      <td></td>\n",
       "      <td>[{'response_model': 'Llama-3.3-70B-Instruct', ...</td>\n",
       "    </tr>\n",
       "    <tr>\n",
       "      <th>4</th>\n",
       "      <td>Prove that for a vector space V = F^n, where n...</td>\n",
       "      <td>The assumption that such linear maps S, T exis...</td>\n",
       "      <td>[{'response_model': 'Llama-3.3-70B-Instruct', ...</td>\n",
       "    </tr>\n",
       "  </tbody>\n",
       "</table>\n",
       "</div>"
      ],
      "text/plain": [
       "                                            question  \\\n",
       "0  What is the total work done on an object when ...   \n",
       "1  Propose a system of 'Practical Numbers' that d...   \n",
       "2  Solve the differential equation (1/F)(dF/dx) =...   \n",
       "3  Two equal masses, each with a mass similar to ...   \n",
       "4  Prove that for a vector space V = F^n, where n...   \n",
       "\n",
       "                                    reference_answer  \\\n",
       "0                 W = delta ME = delta KE + delta PE   \n",
       "1  A well-structured proposal addressing the chal...   \n",
       "2                             c = x.e^(2y) - 2e^(3y)   \n",
       "3                                                      \n",
       "4  The assumption that such linear maps S, T exis...   \n",
       "\n",
       "                                           responses  \n",
       "0  [{'response_model': 'Llama-3.3-70B-Instruct', ...  \n",
       "1  [{'response_model': 'Llama-3.3-70B-Instruct', ...  \n",
       "2  [{'response_model': 'Llama-3.3-70B-Instruct', ...  \n",
       "3  [{'response_model': 'Llama-3.3-70B-Instruct', ...  \n",
       "4  [{'response_model': 'Llama-3.3-70B-Instruct', ...  "
      ]
     },
     "execution_count": 2,
     "metadata": {},
     "output_type": "execute_result"
    }
   ],
   "source": [
    "df.head()"
   ]
  },
  {
   "cell_type": "code",
   "execution_count": 6,
   "metadata": {},
   "outputs": [
    {
     "name": "stdout",
     "output_type": "stream",
     "text": [
      "## Step 1: Define the Work-Energy Theorem\n",
      "The Work-Energy Theorem states that the net work done on an object is equal to the change in its kinetic energy. Mathematically, this is represented as \\(W = \\Delta KE\\), where \\(W\\) is the net work done and \\(\\Delta KE\\) is the change in kinetic energy.\n",
      "\n",
      "## Step 2: Consider the Change in Potential Energy\n",
      "When an object is moved upwards against gravity, its potential energy increases. The change in potential energy (\\(\\Delta PE\\)) is given by \\(mgh\\), where \\(m\\) is the mass of the object, \\(g\\) is the acceleration due to gravity, and \\(h\\) is the height through which the object is lifted.\n",
      "\n",
      "## Step 3: Apply the Principle of Conservation of Mechanical Energy\n",
      "The principle of conservation of mechanical energy states that the total mechanical energy of an isolated system remains constant over time, unless acted upon by an external force. In this scenario, the external force is gravity. The total mechanical energy (\\(E\\)) is the sum of kinetic energy (\\(KE\\)) and potential energy (\\(PE\\)), i.e., \\(E = KE + PE\\). When the object is lifted, some of the kinetic energy may be converted into potential energy, and work is done against gravity.\n",
      "\n",
      "## Step 4: Derive the Total Work Done\n",
      "Considering both the change in kinetic energy and the increase in potential energy, the total work done (\\(W_{total}\\)) on the object can be represented as the sum of the change in kinetic energy (\\(\\Delta KE\\)) and the change in potential energy (\\(\\Delta PE\\)). Therefore, \\(W_{total} = \\Delta KE + \\Delta PE\\). Since the object is moved upwards against gravity, the work done against gravity is \\(mgh\\), which is the change in potential energy.\n",
      "\n",
      "## Step 5: Consider the Initial and Final States\n",
      "If the object starts from rest and ends at rest, the change in kinetic energy (\\(\\Delta KE\\)) is zero, because the initial and final kinetic energies are the same (both are zero). In this case, the total work done is entirely converted into potential energy.\n",
      "\n",
      "The final answer is: $\\boxed{mgh}$\n"
     ]
    }
   ],
   "source": [
    "print(df[\"responses\"][0][0]['response'])"
   ]
  },
  {
   "cell_type": "markdown",
   "metadata": {},
   "source": [
    "# Dataset Analysis\n",
    "- Facebook의 natural_reasoning 데이터셋 분석\n",
    "- 데이터셋 구성\n",
    "    - question: 질의\n",
    "    - reference_answer: 정답\n",
    "    - responses: 답변 과정(개인적으로 가장 핵심적인 부분이라 생각)\n",
    "- Reasoning을 하기 위해 답변 과정을 유도하는 부분을 추가한 데이터셋\n",
    "- 특히 responses를 보면 각 step별로 답변을 유도함"
   ]
  }
 ],
 "metadata": {
  "kernelspec": {
   "display_name": "Python 3",
   "language": "python",
   "name": "python3"
  },
  "language_info": {
   "codemirror_mode": {
    "name": "ipython",
    "version": 3
   },
   "file_extension": ".py",
   "mimetype": "text/x-python",
   "name": "python",
   "nbconvert_exporter": "python",
   "pygments_lexer": "ipython3",
   "version": "3.10.12"
  }
 },
 "nbformat": 4,
 "nbformat_minor": 2
}
